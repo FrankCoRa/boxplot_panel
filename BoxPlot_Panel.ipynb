{
 "cells": [
  {
   "cell_type": "code",
   "execution_count": null,
   "id": "e2561e3f-f86d-4493-9d0d-7565b71b24ef",
   "metadata": {
    "scrolled": true
   },
   "outputs": [],
   "source": [
    "import pandas as pd\n",
    "import seaborn as sns\n",
    "import matplotlib.pyplot as plt\n",
    "import panel as pn\n",
    "\n",
    "pn.extension('plotly')\n",
    "\n",
    "# Load the dataset\n",
    "df = pd.read_csv('Spring_2025_schedule_standardized.csv')\n",
    "\n",
    "# Clean and preprocess\n",
    "df = df[df['MAXCAPACITY'] > 0]\n",
    "df['Utilization'] = df['SECTENROLL'] / df['MAXENROLL']\n",
    "df = df[~df['CAMPUS'].isin(['GU', 'HS'])]\n",
    "df = df[df['CRSSTATUS'].str.lower() == 'active']\n",
    "df = df[df['INST_METHOD'].isin(['TD', 'BLD'])]\n",
    "df = df[df['MTGDAYS'].notna()]\n",
    "df = df[~df['MTGDAYS'].str.upper().eq('TBA')]\n",
    "df = df[~df['PARTTERM'].isin(['K', 'HS'])]\n",
    "\n",
    "# Create dynamic widgets\n",
    "campus_selector = pn.widgets.Select(name='Select Campus', options=['DF', 'MT', 'BX'], value='DF')\n",
    "partterm_options = sorted(df['PARTTERM'].unique())\n",
    "partterm_selector = pn.widgets.CheckBoxGroup(name='PARTTERM Filter', value=partterm_options, options=partterm_options)\n",
    "\n",
    "@pn.depends(campus_selector, partterm_selector)\n",
    "def update_plot(selected_campus, selected_partterms):\n",
    "    filtered_df = df[(df['CAMPUS'] == selected_campus) & (df['PARTTERM'].isin(selected_partterms))]\n",
    "\n",
    "    if filtered_df.empty:\n",
    "        return pn.pane.Markdown(\"### ⚠️ No data available for the selected filters.\")\n",
    "\n",
    "    avg_util = filtered_df['Utilization'].mean()\n",
    "\n",
    "    plt.figure(figsize=(12, 6))\n",
    "    sns.boxplot(x='ROOM', y='Utilization', data=filtered_df, palette='pastel')\n",
    "    plt.title(f'Spring 2025 Room Utilization in {selected_campus}', fontsize=16)\n",
    "    plt.ylabel('Utilization Ratio (Enrolled / Capacity)', fontsize=12)\n",
    "    plt.xlabel('Room', fontsize=12)\n",
    "    plt.xticks(rotation=90)\n",
    "    plt.axhline(avg_util, color='red', linestyle='--', linewidth=1.5, label=f'Average: {avg_util:.2f}')\n",
    "    plt.legend()\n",
    "    plt.grid(axis='y', linestyle='--', alpha=0.5)\n",
    "    plt.tight_layout()\n",
    "\n",
    "    return pn.pane.Matplotlib(plt.gcf(), tight=True)\n",
    "\n",
    "# Display Panel layout\n",
    "panel_layout = pn.Column(\n",
    "    \"## 🏫 Room Utilization Dashboard\",\n",
    "    pn.Row(campus_selector, partterm_selector),\n",
    "    update_plot\n",
    ")\n",
    "\n",
    "panel_layout.servable()\n"
   ]
  },
  {
   "cell_type": "code",
   "execution_count": null,
   "id": "c7c3df07-1eed-48bd-b626-0fba6e431a68",
   "metadata": {},
   "outputs": [],
   "source": []
  }
 ],
 "metadata": {
  "kernelspec": {
   "display_name": "Python 3 (ipykernel)",
   "language": "python",
   "name": "python3"
  },
  "language_info": {
   "codemirror_mode": {
    "name": "ipython",
    "version": 3
   },
   "file_extension": ".py",
   "mimetype": "text/x-python",
   "name": "python",
   "nbconvert_exporter": "python",
   "pygments_lexer": "ipython3",
   "version": "3.12.7"
  }
 },
 "nbformat": 4,
 "nbformat_minor": 5
}
